{
 "cells": [
  {
   "cell_type": "code",
   "execution_count": 7,
   "metadata": {},
   "outputs": [],
   "source": [
    "import numpy as np\n",
    "import pandas as pd\n",
    "from gridworld import GridworldEnv"
   ]
  },
  {
   "cell_type": "code",
   "execution_count": 6,
   "metadata": {},
   "outputs": [],
   "source": [
    "env = GridworldEnv()"
   ]
  },
  {
   "cell_type": "code",
   "execution_count": null,
   "metadata": {},
   "outputs": [],
   "source": [
    "\"\"\"\n",
    "    Based model, i.e., the probability transition of states and reward functions are given.\n",
    "    In this case(dynamic programing), policy evaluation is actually to calculate the state value function \n",
    "    based on the states tabular.\n",
    "    So first, we should build the states tabular\n",
    "\"\"\""
   ]
  },
  {
   "cell_type": "code",
   "execution_count": null,
   "metadata": {},
   "outputs": [],
   "source": [
    "#iterative policy evaluation, for estimating V to get close to the optimal state value functioin\n",
    "def policy_eval(policy, env, discount_factor=1.0, threhold=0.00001):\n",
    "    \"\"\"\n",
    "    Args:\n",
    "        policy:\n",
    "            state value functions we need to calculate and its type should be a vector\n",
    "            \n",
    "        env: env.P represents the transition probabilities of the environment.\n",
    "             env.P[s][a] is a list of transition tuples (prob, next_state, reward, done).\n",
    "             env.nS is a number of states in the environment.\n",
    "             env.nA is the number of actions in the environment.\n",
    "             \n",
    "        threhold: We stop evaluation once our value function change is less than threhold for all states.\n",
    "    \n",
    "    Returns:\n",
    "        Vector of length env.nS representing the value funciton\n",
    "    \"\"\"\n",
    "    \n",
    "    #initialize V(s) arbitrarily\n",
    "    Vs = np.zeros(env.nS)\n",
    "    \n",
    "    while True:\n",
    "        delta = 0 #the difference of the old value and new value, break the loop when it's smaller than theta\n",
    "        \n",
    "        for s in range(env.nS):\n",
    "            v = Vs[s]\n",
    "            for a, action_prob in enumerate(policy[s]):\n",
    "                #for each action, look at the possible next states...\n",
    "                for prob, next_state, reward, done in env.P[s][a]:\n",
    "                    v += action_prob * prob * (reward + discount_factor * V[next_state])\n",
    "            delta = max(delta, np.abs(v - V[s]))\n",
    "            V[s] = v\n",
    "            \n",
    "        if delta < theta:\n",
    "            break\n",
    "    return np.array(V)"
   ]
  }
 ],
 "metadata": {
  "kernelspec": {
   "display_name": "Python 3",
   "language": "python",
   "name": "python3"
  },
  "language_info": {
   "codemirror_mode": {
    "name": "ipython",
    "version": 3
   },
   "file_extension": ".py",
   "mimetype": "text/x-python",
   "name": "python",
   "nbconvert_exporter": "python",
   "pygments_lexer": "ipython3",
   "version": "3.8.5"
  }
 },
 "nbformat": 4,
 "nbformat_minor": 4
}
